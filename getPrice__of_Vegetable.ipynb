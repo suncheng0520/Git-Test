{
  "nbformat": 4,
  "nbformat_minor": 0,
  "metadata": {
    "colab": {
      "name": "getPrice_ of_Vegetable.ipynb",
      "provenance": [],
      "authorship_tag": "ABX9TyOPjyjc8ToGUU6kPyWzthyp",
      "include_colab_link": true
    },
    "kernelspec": {
      "name": "python3",
      "display_name": "Python 3"
    }
  },
  "cells": [
    {
      "cell_type": "markdown",
      "metadata": {
        "id": "view-in-github",
        "colab_type": "text"
      },
      "source": [
        "<a href=\"https://colab.research.google.com/github/suncheng0520/Git-Test/blob/master/getPrice__of_Vegetable.ipynb\" target=\"_parent\"><img src=\"https://colab.research.google.com/assets/colab-badge.svg\" alt=\"Open In Colab\"/></a>"
      ]
    },
    {
      "cell_type": "code",
      "metadata": {
        "id": "3hpm-o0lvhHc",
        "colab_type": "code",
        "colab": {}
      },
      "source": [
        "!pip install selenium\n",
        "!apt-get update # to update ubuntu to correctly run apt install\n",
        "!apt install chromium-chromedriver\n",
        "!cp /usr/lib/chromium-browser/chromedriver /usr/bin\n",
        "!pip install xlutils\n",
        "import sys\n",
        "sys.path.insert(0,'/usr/lib/chromium-browser/chromedriver')"
      ],
      "execution_count": 0,
      "outputs": []
    },
    {
      "cell_type": "code",
      "metadata": {
        "id": "YsemsrWhvvqH",
        "colab_type": "code",
        "colab": {}
      },
      "source": [
        "from selenium import webdriver\n",
        "from time import sleep\n",
        "chrome_options = webdriver.ChromeOptions()\n",
        "chrome_options.add_argument('--headless')\n",
        "chrome_options.add_argument('--no-sandbox')\n",
        "chrome_options.add_argument('--disable-dev-shm-usage')\n",
        "wd = webdriver.Chrome('chromedriver',options=chrome_options)\n",
        "wd.get(\"https://amis.afa.gov.tw/veg/VegProdDayTransInfo.aspx\")\n",
        "#wd.find_element_by_id('ctl00_contentPlaceHolder_txtMarket').clear()\n",
        "#wd.find_element_by_id('ctl00_contentPlaceHolder_txtMarket').send_keys('全部市場')\n",
        "wd.execute_script('''\n",
        "   var value = arguments[0];\n",
        "   document.getElementById('ctl00_contentPlaceHolder_txtMarket').value = value;\n",
        "''', '全部市場')\n",
        "elem = wd.find_element_by_css_selector('td.table_main>input[type=hidden]')\n",
        "wd.execute_script('''\n",
        "    var elem = arguments[0];\n",
        "    var value = arguments[1];\n",
        "    elem.value = value;\n",
        "''', elem, 'ALL')\n",
        "#wd.find_element_by_id('ctl00_contentPlaceHolder_txtMarket').click()\n",
        "elem = wd.find_element_by_css_selector('td.table_main>input[id=ctl00_contentPlaceHolder_hfldMarketNo]')\n",
        "wd.execute_script('''\n",
        "    var elem = arguments[0];\n",
        "    var value = arguments[1];\n",
        "    elem.value = value;\n",
        "''', elem, 'ALL')\n",
        "#wd.find_element_by_id('ctl00_contentPlaceHolder_txtProduct').send_keys('全部產品')\n",
        "wd.execute_script('''\n",
        "   var value = arguments[0];\n",
        "   document.getElementById('ctl00_contentPlaceHolder_txtProduct').value = value;\n",
        "''', '全部產品')\n",
        "elem = wd.find_element_by_css_selector('td.table_main>input[id=ctl00_contentPlaceHolder_hfldProductNo]')\n",
        "wd.execute_script('''\n",
        "    var elem = arguments[0];\n",
        "    var value = arguments[1];\n",
        "    elem.value = value;\n",
        "''', elem, 'ALL')\n",
        "elem = wd.find_element_by_css_selector('td.table_main>input[id=ctl00_contentPlaceHolder_hfldProductType]')\n",
        "wd.execute_script('''\n",
        "    var elem = arguments[0];\n",
        "    var value = arguments[1];\n",
        "    elem.value = value;\n",
        "''', elem, 'A')\n",
        "#print(wd.page_source)\n",
        "#wd.find_element_by_id('ctl00_contentPlaceHolder_btnQuery').click()\n",
        "wd.find_element_by_id('ctl00_contentPlaceHolder_btnXls').click()\n",
        "sleep(5)\n",
        "wd.quit()"
      ],
      "execution_count": 0,
      "outputs": []
    },
    {
      "cell_type": "code",
      "metadata": {
        "id": "9j7qn3vtvzGg",
        "colab_type": "code",
        "colab": {}
      },
      "source": [
        "import datetime\n",
        "now = datetime.datetime.now()"
      ],
      "execution_count": 0,
      "outputs": []
    },
    {
      "cell_type": "code",
      "metadata": {
        "id": "dzlTieC0v0UA",
        "colab_type": "code",
        "colab": {}
      },
      "source": [
        "from xlrd import open_workbook\n",
        "from xlutils.copy import copy\n",
        "\n",
        "rb = open_workbook(\"蔬菜產品日交易行情.xls\")\n",
        "wb = copy(rb)\n",
        "\n",
        "s = wb.get_sheet(0)\n",
        "#columns name\n",
        "s.write(0,0,'A1')\n",
        "wb.save(now.strftime(\"%Y%m%d\")+'.xls')"
      ],
      "execution_count": 0,
      "outputs": []
    },
    {
      "cell_type": "code",
      "metadata": {
        "id": "lIK7WjoLv18O",
        "colab_type": "code",
        "colab": {}
      },
      "source": [
        "import pandas as pd\n",
        "ds=pd.read_excel('蔬菜產品日交易行情.xls',encoding=\"utf-8\")\n",
        "ds=ds.drop([ds.shape[0]-1])\n",
        "ds=ds.drop([0,1,2,3])\n",
        "ds = ds.rename(columns={'蔬菜 產品日交易行情':'DataDate', \n",
        "           'Unnamed: 1':'Market', \n",
        "           'Unnamed: 2':'Product', \n",
        "           'Unnamed: 3':'uPrice',\n",
        "           'Unnamed: 4':'mPrice',\n",
        "           'Unnamed: 5':'dPrice', \n",
        "           'Unnamed: 6':'average_price',\n",
        "           'Unnamed: 7':'Increase1', \n",
        "           'Unnamed: 8':'trading_capacity', \n",
        "           'Unnamed: 9':'Increase2',\n",
        "           'Unnamed: 10':'noName'})\n",
        "ds=ds.drop('noName',axis = 1 )\n",
        "ds.to_csv('/content/'+now.strftime(\"%Y%m%d\")+'.csv',index = False,header = True)"
      ],
      "execution_count": 0,
      "outputs": []
    }
  ]
}